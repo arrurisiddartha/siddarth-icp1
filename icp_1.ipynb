{
  "nbformat": 4,
  "nbformat_minor": 0,
  "metadata": {
    "colab": {
      "provenance": []
    },
    "kernelspec": {
      "name": "python3",
      "display_name": "Python 3"
    },
    "language_info": {
      "name": "python"
    }
  },
  "cells": [
    {
      "cell_type": "code",
      "execution_count": null,
      "metadata": {
        "colab": {
          "base_uri": "https://localhost:8080/"
        },
        "id": "Esnq4rW-LkmY",
        "outputId": "8e6b91fe-06b0-4c93-cc54-555f3954fdec"
      },
      "outputs": [
        {
          "output_type": "stream",
          "name": "stdout",
          "text": [
            "sorted ages:  [19, 19, 19, 20, 22, 24, 24, 24, 25, 25, 26, 26]\n",
            "Min age:  19\n",
            "Max age:  26\n",
            "Median age: 24.0\n",
            "Avg age: 22.75\n",
            "Range of ages: 7\n"
          ]
        }
      ],
      "source": [
        "# Question 1\n",
        "ages = [19, 22, 19, 24, 20, 25, 26, 24, 25, 24]\n",
        "\n",
        "# Sort the list\n",
        "ages.sort()\n",
        "\n",
        "# Get min and max age\n",
        "min_age = min(ages)\n",
        "max_age = max(ages)\n",
        "\n",
        "# Add min and max age again to the list\n",
        "ages.append(min_age)\n",
        "ages.append(max_age)\n",
        "\n",
        "# Find median age\n",
        "ages.sort()\n",
        "median_age = (ages[len(ages)//2] + ages[~len(ages)//2]) / 2\n",
        "\n",
        "# Find average age\n",
        "average_age = sum(ages) / len(ages)\n",
        "\n",
        "# Find range of ages\n",
        "range_ages = max(ages) - min(ages)\n",
        "\n",
        "print('sorted ages: ',ages)\n",
        "print('Min age: ', min_age)\n",
        "print('Max age: ', max_age)\n",
        "print('Median age:', median_age)\n",
        "print('Avg age:', average_age)\n",
        "print('Range of ages:', range_ages)\n"
      ]
    },
    {
      "cell_type": "code",
      "source": [
        "# Question 2\n",
        "dog = {}\n",
        "\n",
        "# Add information\n",
        "dog['name'] = 'Rocky'\n",
        "dog['color'] = 'brown'\n",
        "dog['breed'] = 'Labrador'\n",
        "dog['legs'] = 4\n",
        "dog['age'] = 5\n",
        "\n",
        "student = {}\n",
        "student['first_name'] = 'Joe'\n",
        "student['last_name'] = 'stephen'\n",
        "student['gender'] = 'Male'\n",
        "student['age'] = 25\n",
        "student['marital status'] = 'Single'\n",
        "student['skills'] = ['Python', 'R', 'SQL']\n",
        "student['country'] = 'India'\n",
        "student['city'] = 'Delhi'\n",
        "student['address'] = '101 sulthan street'\n",
        "\n",
        "# Get length\n",
        "print('Length of student dictionaly is:', len(student))\n",
        "\n",
        "# Get skills\n",
        "print('student skills are:', student['skills'])\n",
        "print('type:', type(student['skills']))\n",
        "\n",
        "# Modify skills\n",
        "student['skills'].append('Java')\n",
        "student['skills'].append('Sql')\n",
        "print('Modified skills:', student['skills'])\n",
        "\n",
        "# Get keys and values\n",
        "print('Dictionary keys list:', student.keys())\n",
        "print('Dictionary values list:', student.values())\n",
        "\n"
      ],
      "metadata": {
        "colab": {
          "base_uri": "https://localhost:8080/"
        },
        "id": "mmxsDPyeOayZ",
        "outputId": "a55316eb-08bb-4166-d19d-24dfcf31eb7d"
      },
      "execution_count": null,
      "outputs": [
        {
          "output_type": "stream",
          "name": "stdout",
          "text": [
            "Length of student dictionaly is: 9\n",
            "student skills are: ['Python', 'R', 'SQL']\n",
            "type: <class 'list'>\n",
            "Modified skills: ['Python', 'R', 'SQL', 'Java', 'Sql']\n",
            "Dictionary keys list: dict_keys(['first_name', 'last_name', 'gender', 'age', 'marital status', 'skills', 'country', 'city', 'address'])\n",
            "Dictionary values list: dict_values(['Joe', 'stephen', 'Male', 25, 'Single', ['Python', 'R', 'SQL', 'Java', 'Sql'], 'India', 'Delhi', '101 sulthan street'])\n"
          ]
        }
      ]
    },
    {
      "cell_type": "code",
      "source": [
        "# Question 3\n",
        "sisters = ('Mary', 'Jane')\n",
        "brothers = ('Bob', 'Tom')\n",
        "\n",
        "siblings = sisters + brothers\n",
        "print('Siblings are:', siblings)\n",
        "\n",
        "print('Total siblings are:', len(siblings))\n",
        "\n",
        "family_members = siblings + ('John', 'Emma')\n",
        "print('Family members are:', family_members)\n"
      ],
      "metadata": {
        "colab": {
          "base_uri": "https://localhost:8080/"
        },
        "id": "ci_KuPiSQP1v",
        "outputId": "8a4d9080-8ffd-40ee-b6d1-f6fb26d0fe26"
      },
      "execution_count": null,
      "outputs": [
        {
          "output_type": "stream",
          "name": "stdout",
          "text": [
            "Siblings are: ('Mary', 'Jane', 'Bob', 'Tom')\n",
            "Total siblings are: 4\n",
            "Family members are: ('Mary', 'Jane', 'Bob', 'Tom', 'John', 'Emma')\n"
          ]
        }
      ]
    },
    {
      "cell_type": "code",
      "source": [
        "\n",
        "# Question 4\n",
        "\n",
        "it_companies = {'Facebook', 'Google', 'Microsoft', 'Apple', 'IBM', 'Oracle', 'Amazon'}\n",
        "\n",
        "print('total it_companies are:', len(it_companies))\n",
        "\n",
        "it_companies.add('Twitter')\n",
        "print('adding twitter', it_companies)\n",
        "\n",
        "it_companies.update(['Tesla', 'Nvidia'])\n",
        "print('after inserting Tesla and Nvisia:', it_companies)\n",
        "\n",
        "it_companies.remove('Oracle')\n",
        "print('Removing Oracle:', it_companies)\n",
        "\n",
        "# remove() throws error, discard() doesn't\n",
        "\n",
        "A = {19, 22, 24, 20, 25, 26}\n",
        "B = {19, 22, 20, 25, 26, 24, 28, 27}\n",
        "\n",
        "# Join A and B\n",
        "print('Joining A&B', A.union(B))\n",
        "\n",
        "# Intersection\n",
        "print('intersecting A&B',A.intersection(B))\n",
        "\n",
        "# Subset\n",
        "print('A subset B', A.issubset(B))\n",
        "\n",
        "# Disjoint\n",
        "print('A adj of B', A.isdisjoint(B))\n",
        "\n",
        "# Join\n",
        "print('join A with B', A.union(B))\n",
        "print('Join B with A', B.union(A))\n",
        "\n",
        "# Symmetric difference\n",
        "print('symm difference', A.symmetric_difference(B))\n",
        "\n",
        "# Delete sets\n",
        "del A\n",
        "del B\n",
        "\n",
        "ages = [19, 22, 19, 24, 20, 25, 26, 24, 25, 24]\n",
        "\n",
        "print('length of list', len(ages))\n",
        "print('length of set', len(set(ages)))\n"
      ],
      "metadata": {
        "colab": {
          "base_uri": "https://localhost:8080/"
        },
        "id": "sSeMkm3jQ1en",
        "outputId": "4baf8027-55fe-4f7a-9323-11b28ccc09ab"
      },
      "execution_count": null,
      "outputs": [
        {
          "output_type": "stream",
          "name": "stdout",
          "text": [
            "total it_companies are: 7\n",
            "adding twitter {'Amazon', 'Apple', 'Oracle', 'Google', 'Twitter', 'IBM', 'Microsoft', 'Facebook'}\n",
            "after inserting Tesla and Nvisia: {'Oracle', 'Nvidia', 'Microsoft', 'Apple', 'Amazon', 'Facebook', 'Tesla', 'Google', 'Twitter', 'IBM'}\n",
            "Removing Oracle: {'Nvidia', 'Microsoft', 'Apple', 'Amazon', 'Facebook', 'Tesla', 'Google', 'Twitter', 'IBM'}\n",
            "Joining A&B {19, 20, 22, 24, 25, 26, 27, 28}\n",
            "intersecting A&B {19, 20, 22, 24, 25, 26}\n",
            "A subset B True\n",
            "A adj of B False\n",
            "join A with B {19, 20, 22, 24, 25, 26, 27, 28}\n",
            "Join B with A {19, 20, 22, 24, 25, 26, 27, 28}\n",
            "symm difference {27, 28}\n",
            "length of list 10\n",
            "length of set 6\n"
          ]
        }
      ]
    },
    {
      "cell_type": "code",
      "source": [
        "# Question 5\n",
        "\n",
        "import math\n",
        "\n",
        "r = 30\n",
        "\n",
        "# Calculate area\n",
        "area_of_circle = math.pi * r ** 2\n",
        "print('area of circle is:', area_of_circle)\n",
        "\n",
        "# Calculate circumference\n",
        "circum_of_circle = 2 * math.pi * r\n",
        "print('circumference of circle is:',circum_of_circle)\n",
        "\n",
        "# Take radius as user input\n",
        "r = float(input(\"Enter radius: \"))\n",
        "area = math.pi * r ** 2\n",
        "print('area:', area)\n",
        "\n"
      ],
      "metadata": {
        "colab": {
          "base_uri": "https://localhost:8080/"
        },
        "id": "v_hwqZ87SDa9",
        "outputId": "633fe185-dc9e-4481-d205-117123a84743"
      },
      "execution_count": null,
      "outputs": [
        {
          "output_type": "stream",
          "name": "stdout",
          "text": [
            "area of circle is: 2827.4333882308138\n",
            "circumference of circle is: 188.49555921538757\n",
            "Enter radius: 5\n",
            "area: 78.53981633974483\n"
          ]
        }
      ]
    },
    {
      "cell_type": "code",
      "source": [
        "# Question 6\n",
        "sentence = \"I am a teacher and I love to inspire and teach people\"\n",
        "\n",
        "words = set(sentence.split())\n",
        "print('Total Unique words found are:', len(words))\n"
      ],
      "metadata": {
        "colab": {
          "base_uri": "https://localhost:8080/"
        },
        "id": "KsPkymxuSZhc",
        "outputId": "bc41a38a-52b3-443f-cf14-c082790ec45e"
      },
      "execution_count": null,
      "outputs": [
        {
          "output_type": "stream",
          "name": "stdout",
          "text": [
            "Total Unique words found are: 10\n"
          ]
        }
      ]
    },
    {
      "cell_type": "code",
      "source": [
        "#Question 7\n",
        "print('Name', '\\t\\t', 'Age', '\\t', 'Country', '\\t', 'City')\n",
        "print('Asabeneh', '\\t', '250', '\\t', 'Finland', '\\t', 'Helsinki')\n",
        "\n",
        "\n"
      ],
      "metadata": {
        "colab": {
          "base_uri": "https://localhost:8080/"
        },
        "id": "HTsM8SvNSmOY",
        "outputId": "ea8ce055-87c5-4b6e-c062-27da3fc269c4"
      },
      "execution_count": null,
      "outputs": [
        {
          "output_type": "stream",
          "name": "stdout",
          "text": [
            "Name \t\t Age \t Country \t City\n",
            "Asabeneh \t 250 \t Finland \t Helsinki\n"
          ]
        }
      ]
    },
    {
      "cell_type": "code",
      "source": [
        "# Question 8\n",
        "radius = 10\n",
        "area = 3.14 * radius ** 2\n",
        "print(\"The area of a circle with radius {} is {} meters square.\".format(radius, area))\n",
        "\n"
      ],
      "metadata": {
        "colab": {
          "base_uri": "https://localhost:8080/"
        },
        "id": "rLqSiw7qS5qc",
        "outputId": "1ed9017a-8d09-4f8a-ad7d-783390debc06"
      },
      "execution_count": null,
      "outputs": [
        {
          "output_type": "stream",
          "name": "stdout",
          "text": [
            "The area of a circle with radius 10 is 314.0 meters square.\n"
          ]
        }
      ]
    },
    {
      "cell_type": "code",
      "source": [
        "# Question 9\n",
        "n = int(input(\"Enter number of students: \"))\n",
        "weights = []\n",
        "for i in range(n):\n",
        "    w = float(input(\"Enter weight (lbs): \"))\n",
        "    weights.append(w)\n",
        "\n",
        "weights_kg = [w * 0.453592 for w in weights]\n",
        "\n",
        "print('L1:',weights)\n",
        "print('Output:',weights_kg)\n"
      ],
      "metadata": {
        "colab": {
          "base_uri": "https://localhost:8080/"
        },
        "id": "UjwEkH7ZTR0Y",
        "outputId": "95cc18d3-5c91-49f3-cc9e-3bc8ded2d9a4"
      },
      "execution_count": null,
      "outputs": [
        {
          "output_type": "stream",
          "name": "stdout",
          "text": [
            "Enter number of students: 4\n",
            "Enter weight (lbs): 150\n",
            "Enter weight (lbs): 155\n",
            "Enter weight (lbs): 145\n",
            "Enter weight (lbs): 148\n",
            "L1: [150.0, 155.0, 145.0, 148.0]\n",
            "Output: [68.0388, 70.30676, 65.77083999999999, 67.131616]\n"
          ]
        }
      ]
    }
  ]
}